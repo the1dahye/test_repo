{
 "cells": [
  {
   "cell_type": "code",
   "execution_count": null,
   "metadata": {},
   "outputs": [],
   "source": [
    "!git add "
   ]
  },
  {
   "cell_type": "code",
   "execution_count": 41,
   "metadata": {},
   "outputs": [
    {
     "name": "stdout",
     "output_type": "stream",
     "text": [
      "Reinitialized existing Git repository in C:/Users/7040_64bit/WORK/Infra/.git/\n"
     ]
    }
   ],
   "source": [
    "!cd C:/Users/7040_64bit/WORK/Infra/git_example\n",
    "!git init"
   ]
  },
  {
   "cell_type": "code",
   "execution_count": 37,
   "metadata": {},
   "outputs": [
    {
     "name": "stdout",
     "output_type": "stream",
     "text": [
      "On branch project/example_ipynb.kp\n",
      "Changes to be committed:\n",
      "  (use \"git reset HEAD <file>...\" to unstage)\n",
      "\n",
      "\tnew file:   project/example_ipynb.kp/REVISION\n",
      "\tnew file:   project/example_ipynb.kp/UUID\n",
      "\tnew file:   project/example_ipynb.kp/images/output_5_1.png\n",
      "\tnew file:   project/example_ipynb.kp/knowledge.md\n",
      "\tnew file:   project/example_ipynb.kp/src/example_post.ipynb\n",
      "\n",
      "Changes not staged for commit:\n",
      "  (use \"git add <file>...\" to update what will be committed)\n",
      "  (use \"git checkout -- <file>...\" to discard changes in working directory)\n",
      "\n",
      "\tmodified:   project/example_ipynb.kp/src/example_post.ipynb\n",
      "\n",
      "Untracked files:\n",
      "  (use \"git add <file>...\" to include in what will be committed)\n",
      "\n",
      "\t.ipynb_checkpoints/\n",
      "\t.knowledge_repo_config.yml\n",
      "\tREADME.md\n",
      "\tUntitled.ipynb\n",
      "\tbookstore/\n",
      "\texample_post_ver1.ipynb\n",
      "\tgit_example/\n",
      "\tknowledge_template (1).ipynb\n",
      "\tproject/example_ipynb.kp/.ipynb_checkpoints/\n",
      "\tproject/example_ipynb.kp/src/.ipynb_checkpoints/\n",
      "\ttest_repo_0/\n",
      "\n"
     ]
    }
   ],
   "source": [
    "!git status"
   ]
  },
  {
   "cell_type": "code",
   "execution_count": 32,
   "metadata": {},
   "outputs": [
    {
     "name": "stderr",
     "output_type": "stream",
     "text": [
      "warning: LF will be replaced by CRLF in Untitled2.ipynb.\n",
      "The file will have its original line endings in your working directory\n"
     ]
    }
   ],
   "source": [
    "!git add Untitled2.ipynb"
   ]
  },
  {
   "cell_type": "code",
   "execution_count": 33,
   "metadata": {},
   "outputs": [
    {
     "name": "stdout",
     "output_type": "stream",
     "text": [
      "On branch master\n",
      "Changes to be committed:\n",
      "  (use \"git reset HEAD <file>...\" to unstage)\n",
      "\n",
      "\tnew file:   Untitled2.ipynb\n",
      "\n",
      "Untracked files:\n",
      "  (use \"git add <file>...\" to include in what will be committed)\n",
      "\n",
      "\t.ipynb_checkpoints/\n",
      "\tUntitled.ipynb\n",
      "\tUntitled1.ipynb\n",
      "\ttest_repo_0/\n",
      "\n"
     ]
    }
   ],
   "source": [
    "!git status"
   ]
  },
  {
   "cell_type": "code",
   "execution_count": 34,
   "metadata": {},
   "outputs": [
    {
     "name": "stdout",
     "output_type": "stream",
     "text": [
      "[master b144aee] initial commit\n",
      " 1 file changed, 49 insertions(+)\n",
      " create mode 100644 Untitled2.ipynb\n"
     ]
    }
   ],
   "source": [
    "# local 저장소에 저장\n",
    "!git commit -m \"initial commit\""
   ]
  },
  {
   "cell_type": "code",
   "execution_count": 13,
   "metadata": {},
   "outputs": [
    {
     "name": "stderr",
     "output_type": "stream",
     "text": [
      "fatal: remote origin already exists.\n"
     ]
    }
   ],
   "source": [
    "## 로컬 저장소와 원격 저장소 연결하기\n",
    "!git remote add origin https://github.com/the1dahye/test_repo.git"
   ]
  },
  {
   "cell_type": "code",
   "execution_count": 22,
   "metadata": {},
   "outputs": [
    {
     "name": "stdout",
     "output_type": "stream",
     "text": [
      "origin\thttps://github.com/the1dahye/test_repo.git (fetch)\n",
      "origin\thttps://github.com/the1dahye/test_repo.git (push)\n"
     ]
    }
   ],
   "source": [
    "!git remote -v"
   ]
  },
  {
   "cell_type": "code",
   "execution_count": 35,
   "metadata": {},
   "outputs": [
    {
     "name": "stderr",
     "output_type": "stream",
     "text": [
      "To https://github.com/the1dahye/test_repo.git\n",
      "   7f8d64e..b144aee  master -> master\n"
     ]
    }
   ],
   "source": [
    "## 원격 저장소에 저장\n",
    "!git push origin master"
   ]
  },
  {
   "cell_type": "code",
   "execution_count": 18,
   "metadata": {},
   "outputs": [
    {
     "name": "stderr",
     "output_type": "stream",
     "text": [
      "From https://github.com/the1dahye/test_repo\n",
      " * branch            master     -> FETCH_HEAD\n",
      "fatal: refusing to merge unrelated histories\n"
     ]
    }
   ],
   "source": [
    "#!git pull origin master"
   ]
  }
 ],
 "metadata": {
  "kernelspec": {
   "display_name": "Python 3",
   "language": "python",
   "name": "python3"
  },
  "language_info": {
   "codemirror_mode": {
    "name": "ipython",
    "version": 3
   },
   "file_extension": ".py",
   "mimetype": "text/x-python",
   "name": "python",
   "nbconvert_exporter": "python",
   "pygments_lexer": "ipython3",
   "version": "3.6.6"
  }
 },
 "nbformat": 4,
 "nbformat_minor": 2
}
